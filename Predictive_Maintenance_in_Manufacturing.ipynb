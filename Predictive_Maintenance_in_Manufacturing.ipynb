{
  "nbformat": 4,
  "nbformat_minor": 0,
  "metadata": {
    "colab": {
      "provenance": [],
      "toc_visible": true,
      "authorship_tag": "ABX9TyMstJVUFQIe1kNzljtqxYLY",
      "include_colab_link": true
    },
    "kernelspec": {
      "name": "python3",
      "display_name": "Python 3"
    },
    "language_info": {
      "name": "python"
    }
  },
  "cells": [
    {
      "cell_type": "markdown",
      "metadata": {
        "id": "view-in-github",
        "colab_type": "text"
      },
      "source": [
        "<a href=\"https://colab.research.google.com/github/dennismutavanya/-Predictive-Maintenance-in-Manufacturing/blob/main/Predictive_Maintenance_in_Manufacturing.ipynb\" target=\"_parent\"><img src=\"https://colab.research.google.com/assets/colab-badge.svg\" alt=\"Open In Colab\"/></a>"
      ]
    },
    {
      "cell_type": "code",
      "execution_count": 1,
      "metadata": {
        "colab": {
          "base_uri": "https://localhost:8080/"
        },
        "id": "HD_dSDrEnlMK",
        "outputId": "275856b1-2a41-454e-ecd6-8b11001f43e4"
      },
      "outputs": [
        {
          "output_type": "stream",
          "name": "stdout",
          "text": [
            "Accuracy: 0.5\n",
            "Confusion Matrix:\n",
            "[[1 1]\n",
            " [0 0]]\n"
          ]
        }
      ],
      "source": [
        "# Import necessary libraries\n",
        "import pandas as pd\n",
        "from sklearn.model_selection import train_test_split\n",
        "from sklearn.ensemble import RandomForestClassifier\n",
        "from sklearn.metrics import accuracy_score, confusion_matrix\n",
        "from sklearn.preprocessing import StandardScaler\n",
        "from sklearn.pipeline import make_pipeline\n",
        "\n",
        "# Creating a sample dataset for demonstration\n",
        "data = {\n",
        "    'temperature': [25, 30, 35, 20, 15, 10, 30, 25, 20, 15],\n",
        "    'pressure': [1000, 950, 900, 1050, 1100, 1150, 950, 1000, 1050, 1100],\n",
        "    'vibration': [0.5, 0.7, 1.2, 0.3, 0.4, 0.6, 0.8, 1.0, 1.1, 0.5],\n",
        "    'machine_failure': [0, 0, 1, 0, 0, 0, 1, 0, 0, 0]\n",
        "}\n",
        "\n",
        "# Creating a DataFrame from the sample data\n",
        "df = pd.DataFrame(data)\n",
        "\n",
        "# Separate features (X) and target variable (y)\n",
        "X = df.drop('machine_failure', axis=1)\n",
        "y = df['machine_failure']\n",
        "\n",
        "# Split the data into training and testing sets\n",
        "X_train, X_test, y_train, y_test = train_test_split(X, y, test_size=0.2, random_state=42)\n",
        "\n",
        "# Create a pipeline with preprocessing and a random forest classifier\n",
        "model = make_pipeline(StandardScaler(), RandomForestClassifier(n_estimators=100, random_state=42))\n",
        "\n",
        "# Train the model\n",
        "model.fit(X_train, y_train)\n",
        "\n",
        "# Make predictions on the test set\n",
        "y_pred = model.predict(X_test)\n",
        "\n",
        "# Evaluate the model\n",
        "accuracy = accuracy_score(y_test, y_pred)\n",
        "conf_matrix = confusion_matrix(y_test, y_pred)\n",
        "\n",
        "print(f\"Accuracy: {accuracy}\")\n",
        "print(f\"Confusion Matrix:\\n{conf_matrix}\")\n"
      ]
    }
  ]
}